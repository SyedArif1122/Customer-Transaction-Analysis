{
 "cells": [
  {
   "cell_type": "markdown",
   "id": "c068a1d0",
   "metadata": {},
   "source": [
    "# Customer Transactions Analysis with Python"
   ]
  },
  {
   "cell_type": "markdown",
   "id": "1b3ba75c",
   "metadata": {},
   "source": [
    "Problem Statement\n",
    "\n",
    "In this Jupyter notebook, I conducted a thorough analysis of the \"Customer Transactions\" dataset, covering key aspects like demographics, transaction details, and merchant-related data. The analysis included preprocessing steps, descriptive statistics, and dynamic visualizations to uncover patterns in transaction amounts and customer behavior. Utilizing Python's Pandas and Matplotlib, the notebook provides valuable insights into transaction trends and behaviors, making it a comprehensive exploration of the dataset."
   ]
  },
  {
   "cell_type": "markdown",
   "id": "6ff2a48f",
   "metadata": {},
   "source": [
    "# Import Library"
   ]
  },
  {
   "cell_type": "code",
   "execution_count": 1,
   "id": "df179ad8",
   "metadata": {},
   "outputs": [],
   "source": [
    "import pandas as pd"
   ]
  },
  {
   "cell_type": "code",
   "execution_count": 2,
   "id": "517a0fd1",
   "metadata": {},
   "outputs": [
    {
     "name": "stderr",
     "output_type": "stream",
     "text": [
      "C:\\Users\\Syed Arif\\anaconda3\\lib\\site-packages\\scipy\\__init__.py:146: UserWarning: A NumPy version >=1.16.5 and <1.23.0 is required for this version of SciPy (detected version 1.25.1\n",
      "  warnings.warn(f\"A NumPy version >={np_minversion} and <{np_maxversion}\"\n"
     ]
    }
   ],
   "source": [
    "import pandas as pd\n",
    "import seaborn as sns\n",
    "import matplotlib.pyplot as plt\n",
    "import seaborn as sns"
   ]
  },
  {
   "cell_type": "markdown",
   "id": "4b0eb245",
   "metadata": {},
   "source": [
    "# Uploading Csv fle"
   ]
  },
  {
   "cell_type": "code",
   "execution_count": 3,
   "id": "ddda5ead",
   "metadata": {},
   "outputs": [],
   "source": [
    "df = pd.read_csv(r\"C:\\Users\\Syed Arif\\Desktop\\Customer transection\\Customer Transactions.csv\")"
   ]
  },
  {
   "cell_type": "markdown",
   "id": "c5597201",
   "metadata": {},
   "source": [
    "# Data Preprocessing\n"
   ]
  },
  {
   "cell_type": "markdown",
   "id": "aace63f6",
   "metadata": {},
   "source": [
    "# .head()"
   ]
  },
  {
   "cell_type": "markdown",
   "id": "b7a66965",
   "metadata": {},
   "source": [
    "head is used show to the By default = 5 rows in the dataset"
   ]
  },
  {
   "cell_type": "code",
   "execution_count": 4,
   "id": "1c714689",
   "metadata": {},
   "outputs": [
    {
     "data": {
      "text/html": [
       "<div>\n",
       "<style scoped>\n",
       "    .dataframe tbody tr th:only-of-type {\n",
       "        vertical-align: middle;\n",
       "    }\n",
       "\n",
       "    .dataframe tbody tr th {\n",
       "        vertical-align: top;\n",
       "    }\n",
       "\n",
       "    .dataframe thead th {\n",
       "        text-align: right;\n",
       "    }\n",
       "</style>\n",
       "<table border=\"1\" class=\"dataframe\">\n",
       "  <thead>\n",
       "    <tr style=\"text-align: right;\">\n",
       "      <th></th>\n",
       "      <th>Customer ID</th>\n",
       "      <th>Name</th>\n",
       "      <th>Surname</th>\n",
       "      <th>Gender</th>\n",
       "      <th>Birthdate</th>\n",
       "      <th>Transaction Amount</th>\n",
       "      <th>Date</th>\n",
       "      <th>Merchant Name</th>\n",
       "      <th>Category</th>\n",
       "    </tr>\n",
       "  </thead>\n",
       "  <tbody>\n",
       "    <tr>\n",
       "      <th>0</th>\n",
       "      <td>752858</td>\n",
       "      <td>Sean</td>\n",
       "      <td>Rodriguez</td>\n",
       "      <td>F</td>\n",
       "      <td>2002-10-20</td>\n",
       "      <td>35.47</td>\n",
       "      <td>2023-04-03</td>\n",
       "      <td>Smith-Russell</td>\n",
       "      <td>Cosmetic</td>\n",
       "    </tr>\n",
       "    <tr>\n",
       "      <th>1</th>\n",
       "      <td>26381</td>\n",
       "      <td>Michelle</td>\n",
       "      <td>Phelps</td>\n",
       "      <td>NaN</td>\n",
       "      <td>1985-10-24</td>\n",
       "      <td>2552.72</td>\n",
       "      <td>2023-07-17</td>\n",
       "      <td>Peck, Spence and Young</td>\n",
       "      <td>Travel</td>\n",
       "    </tr>\n",
       "    <tr>\n",
       "      <th>2</th>\n",
       "      <td>305449</td>\n",
       "      <td>Jacob</td>\n",
       "      <td>Williams</td>\n",
       "      <td>M</td>\n",
       "      <td>1981-10-25</td>\n",
       "      <td>115.97</td>\n",
       "      <td>2023-09-20</td>\n",
       "      <td>Steele Inc</td>\n",
       "      <td>Clothing</td>\n",
       "    </tr>\n",
       "    <tr>\n",
       "      <th>3</th>\n",
       "      <td>988259</td>\n",
       "      <td>Nathan</td>\n",
       "      <td>Snyder</td>\n",
       "      <td>M</td>\n",
       "      <td>1977-10-26</td>\n",
       "      <td>11.31</td>\n",
       "      <td>2023-01-11</td>\n",
       "      <td>Wilson, Wilson and Russell</td>\n",
       "      <td>Cosmetic</td>\n",
       "    </tr>\n",
       "    <tr>\n",
       "      <th>4</th>\n",
       "      <td>764762</td>\n",
       "      <td>Crystal</td>\n",
       "      <td>Knapp</td>\n",
       "      <td>F</td>\n",
       "      <td>1951-11-02</td>\n",
       "      <td>62.21</td>\n",
       "      <td>2023-06-13</td>\n",
       "      <td>Palmer-Hinton</td>\n",
       "      <td>Electronics</td>\n",
       "    </tr>\n",
       "  </tbody>\n",
       "</table>\n",
       "</div>"
      ],
      "text/plain": [
       "   Customer ID      Name    Surname Gender   Birthdate  Transaction Amount  \\\n",
       "0       752858      Sean  Rodriguez      F  2002-10-20               35.47   \n",
       "1        26381  Michelle     Phelps    NaN  1985-10-24             2552.72   \n",
       "2       305449     Jacob   Williams      M  1981-10-25              115.97   \n",
       "3       988259    Nathan     Snyder      M  1977-10-26               11.31   \n",
       "4       764762   Crystal      Knapp      F  1951-11-02               62.21   \n",
       "\n",
       "         Date               Merchant Name     Category  \n",
       "0  2023-04-03               Smith-Russell     Cosmetic  \n",
       "1  2023-07-17      Peck, Spence and Young       Travel  \n",
       "2  2023-09-20                  Steele Inc     Clothing  \n",
       "3  2023-01-11  Wilson, Wilson and Russell     Cosmetic  \n",
       "4  2023-06-13               Palmer-Hinton  Electronics  "
      ]
     },
     "execution_count": 4,
     "metadata": {},
     "output_type": "execute_result"
    }
   ],
   "source": [
    "df.head()"
   ]
  },
  {
   "cell_type": "markdown",
   "id": "8684a0d2",
   "metadata": {},
   "source": [
    "# .tail()"
   ]
  },
  {
   "cell_type": "markdown",
   "id": "dc1a3074",
   "metadata": {},
   "source": [
    "tail is used to show rows by Descending order"
   ]
  },
  {
   "cell_type": "code",
   "execution_count": 5,
   "id": "13069e51",
   "metadata": {},
   "outputs": [
    {
     "data": {
      "text/html": [
       "<div>\n",
       "<style scoped>\n",
       "    .dataframe tbody tr th:only-of-type {\n",
       "        vertical-align: middle;\n",
       "    }\n",
       "\n",
       "    .dataframe tbody tr th {\n",
       "        vertical-align: top;\n",
       "    }\n",
       "\n",
       "    .dataframe thead th {\n",
       "        text-align: right;\n",
       "    }\n",
       "</style>\n",
       "<table border=\"1\" class=\"dataframe\">\n",
       "  <thead>\n",
       "    <tr style=\"text-align: right;\">\n",
       "      <th></th>\n",
       "      <th>Customer ID</th>\n",
       "      <th>Name</th>\n",
       "      <th>Surname</th>\n",
       "      <th>Gender</th>\n",
       "      <th>Birthdate</th>\n",
       "      <th>Transaction Amount</th>\n",
       "      <th>Date</th>\n",
       "      <th>Merchant Name</th>\n",
       "      <th>Category</th>\n",
       "    </tr>\n",
       "  </thead>\n",
       "  <tbody>\n",
       "    <tr>\n",
       "      <th>49995</th>\n",
       "      <td>891845</td>\n",
       "      <td>Christine</td>\n",
       "      <td>Leach</td>\n",
       "      <td>F</td>\n",
       "      <td>1997-10-21</td>\n",
       "      <td>108.74</td>\n",
       "      <td>2023-08-30</td>\n",
       "      <td>Alexander Ltd</td>\n",
       "      <td>Market</td>\n",
       "    </tr>\n",
       "    <tr>\n",
       "      <th>49996</th>\n",
       "      <td>800560</td>\n",
       "      <td>Anna</td>\n",
       "      <td>Allen</td>\n",
       "      <td>F</td>\n",
       "      <td>1999-10-21</td>\n",
       "      <td>133.66</td>\n",
       "      <td>2023-05-03</td>\n",
       "      <td>Knapp-Calhoun</td>\n",
       "      <td>Cosmetic</td>\n",
       "    </tr>\n",
       "    <tr>\n",
       "      <th>49997</th>\n",
       "      <td>133285</td>\n",
       "      <td>Nicole</td>\n",
       "      <td>Franklin</td>\n",
       "      <td>M</td>\n",
       "      <td>1979-10-26</td>\n",
       "      <td>464.29</td>\n",
       "      <td>2023-02-12</td>\n",
       "      <td>Cantrell, Haynes and Ballard</td>\n",
       "      <td>Market</td>\n",
       "    </tr>\n",
       "    <tr>\n",
       "      <th>49998</th>\n",
       "      <td>616122</td>\n",
       "      <td>Maria</td>\n",
       "      <td>Keller</td>\n",
       "      <td>M</td>\n",
       "      <td>1981-10-25</td>\n",
       "      <td>472.57</td>\n",
       "      <td>2023-03-25</td>\n",
       "      <td>Wilson, Jackson and Beard</td>\n",
       "      <td>Market</td>\n",
       "    </tr>\n",
       "    <tr>\n",
       "      <th>49999</th>\n",
       "      <td>832184</td>\n",
       "      <td>Billy</td>\n",
       "      <td>Walker</td>\n",
       "      <td>F</td>\n",
       "      <td>1958-10-31</td>\n",
       "      <td>270.67</td>\n",
       "      <td>2023-05-20</td>\n",
       "      <td>Combs LLC</td>\n",
       "      <td>Market</td>\n",
       "    </tr>\n",
       "  </tbody>\n",
       "</table>\n",
       "</div>"
      ],
      "text/plain": [
       "       Customer ID       Name   Surname Gender   Birthdate  \\\n",
       "49995       891845  Christine     Leach      F  1997-10-21   \n",
       "49996       800560       Anna     Allen      F  1999-10-21   \n",
       "49997       133285     Nicole  Franklin      M  1979-10-26   \n",
       "49998       616122      Maria    Keller      M  1981-10-25   \n",
       "49999       832184      Billy    Walker      F  1958-10-31   \n",
       "\n",
       "       Transaction Amount        Date                 Merchant Name  Category  \n",
       "49995              108.74  2023-08-30                 Alexander Ltd    Market  \n",
       "49996              133.66  2023-05-03                 Knapp-Calhoun  Cosmetic  \n",
       "49997              464.29  2023-02-12  Cantrell, Haynes and Ballard    Market  \n",
       "49998              472.57  2023-03-25     Wilson, Jackson and Beard    Market  \n",
       "49999              270.67  2023-05-20                     Combs LLC    Market  "
      ]
     },
     "execution_count": 5,
     "metadata": {},
     "output_type": "execute_result"
    }
   ],
   "source": [
    "df.tail()"
   ]
  },
  {
   "cell_type": "markdown",
   "id": "e76fc80f",
   "metadata": {},
   "source": [
    "# .shape"
   ]
  },
  {
   "cell_type": "markdown",
   "id": "21d6d5af",
   "metadata": {},
   "source": [
    "It show the total no of rows & Column in the dataset"
   ]
  },
  {
   "cell_type": "code",
   "execution_count": 6,
   "id": "e34d1ec4",
   "metadata": {},
   "outputs": [
    {
     "data": {
      "text/plain": [
       "(50000, 9)"
      ]
     },
     "execution_count": 6,
     "metadata": {},
     "output_type": "execute_result"
    }
   ],
   "source": [
    "df.shape"
   ]
  },
  {
   "cell_type": "markdown",
   "id": "618b8c56",
   "metadata": {},
   "source": [
    "# .Columns"
   ]
  },
  {
   "cell_type": "markdown",
   "id": "81d5b891",
   "metadata": {},
   "source": [
    "It show the no of each Column"
   ]
  },
  {
   "cell_type": "code",
   "execution_count": 7,
   "id": "d90a23ca",
   "metadata": {},
   "outputs": [
    {
     "data": {
      "text/plain": [
       "Index(['Customer ID', 'Name', 'Surname', 'Gender', 'Birthdate',\n",
       "       'Transaction Amount', 'Date', 'Merchant Name', 'Category'],\n",
       "      dtype='object')"
      ]
     },
     "execution_count": 7,
     "metadata": {},
     "output_type": "execute_result"
    }
   ],
   "source": [
    "df.columns"
   ]
  },
  {
   "cell_type": "markdown",
   "id": "4c3f8320",
   "metadata": {},
   "source": [
    "# .dtypes"
   ]
  },
  {
   "cell_type": "markdown",
   "id": "19881edc",
   "metadata": {},
   "source": [
    "This Attribute show the data type of each column"
   ]
  },
  {
   "cell_type": "code",
   "execution_count": 8,
   "id": "4a5c7bdd",
   "metadata": {},
   "outputs": [
    {
     "data": {
      "text/plain": [
       "Customer ID             int64\n",
       "Name                   object\n",
       "Surname                object\n",
       "Gender                 object\n",
       "Birthdate              object\n",
       "Transaction Amount    float64\n",
       "Date                   object\n",
       "Merchant Name          object\n",
       "Category               object\n",
       "dtype: object"
      ]
     },
     "execution_count": 8,
     "metadata": {},
     "output_type": "execute_result"
    }
   ],
   "source": [
    "df.dtypes"
   ]
  },
  {
   "cell_type": "markdown",
   "id": "f641048a",
   "metadata": {},
   "source": [
    "# .unique()"
   ]
  },
  {
   "cell_type": "markdown",
   "id": "bf6d4f5e",
   "metadata": {},
   "source": [
    "In a column, It show the unique value of specific column."
   ]
  },
  {
   "cell_type": "code",
   "execution_count": 9,
   "id": "bb0f0dd0",
   "metadata": {},
   "outputs": [
    {
     "data": {
      "text/plain": [
       "array(['Sean', 'Michelle', 'Jacob', 'Nathan', 'Crystal', 'Monica',\n",
       "       'Thomas', 'Kelsey', 'Denise', 'Alexander', 'Kimberly', 'Hunter',\n",
       "       'Julie', 'Christopher', 'Amber', 'Amy', 'Elizabeth', 'Chad',\n",
       "       'Steven', 'Patrick', 'Daniel', 'Robert', 'Sara', 'Anthony',\n",
       "       'Jessica', 'Brian', 'William', 'Adam', 'Betty', 'Pamela', 'Sarah',\n",
       "       'Manuel', 'Aaron', 'Darlene', 'Hannah', 'Benjamin', 'Jason',\n",
       "       'Scott', 'Emily', 'Katherine', 'Kevin', 'Jose', 'Meghan',\n",
       "       'Michael', 'Dana', 'Lisa', 'Sydney', 'Melanie', 'Matthew', 'Tammy',\n",
       "       'Justin', 'Ann', 'Joshua', 'Sabrina', 'Leslie', 'Jeffery', 'Mary',\n",
       "       'Ashley', 'Joseph', 'Juan', 'Christina', 'Martha', 'John', 'Keith',\n",
       "       'Alejandro', 'David', 'Jennifer', 'Nicholas', 'Christy', 'Jamie',\n",
       "       'Douglas', 'Holly', 'Fernando', 'Yvonne', 'Margaret', 'Charles',\n",
       "       'Derrick', 'Kurt', 'Timothy', 'Courtney', 'Joy', 'Carol',\n",
       "       'Lawrence', 'Andrew', 'Nicole', 'Stephanie', 'Derek', 'Hector',\n",
       "       'Jesse', 'Rebecca', 'Catherine', 'Andres', 'Lindsay', 'Raymond',\n",
       "       'Alison', 'Michele', 'Patricia', 'Samuel', 'Diane', 'Carrie',\n",
       "       'Shannon', 'Carolyn', 'Travis', 'Regina', 'Wayne', 'Selena',\n",
       "       'Bianca', 'Brenda', 'Anita', 'Deborah', 'Erika', 'Madison',\n",
       "       'Kristin', 'James', 'Mark', 'Kyle', 'Harold', 'Sherri', 'Cameron',\n",
       "       'Chase', 'Donald', 'Roger', 'Gwendolyn', 'Richard', 'Kathy',\n",
       "       'Kayla', 'Melissa', 'Tina', 'Joan', 'Jacqueline', 'Paul', 'Erin',\n",
       "       'Barbara', 'Kelly', 'Linda', 'Franklin', 'Eric', 'Whitney',\n",
       "       'George', 'Brandy', 'Todd', 'Brianna', 'Teresa', 'Tabitha',\n",
       "       'Sheila', 'Cory', 'Gregory', 'Kim', 'Cassandra', 'Gary', 'Audrey',\n",
       "       'Ethan', 'Jillian', 'Monique', 'Edward', 'Kathleen', 'Claudia',\n",
       "       'Caitlyn', 'Autumn', 'Alex', 'Jeremiah', 'Zachary', 'Angela',\n",
       "       'Tristan', 'Felicia', 'Chelsea', 'Glenn', 'Tamara', 'Alicia',\n",
       "       'Carlos', 'Kathryn', 'Tommy', 'Peter', 'Frank', 'Alexis', 'Isaiah',\n",
       "       'Donna', 'Rachel', 'Sandra', 'Hailey', 'Paula', 'Terry', 'Ryan',\n",
       "       'Nichole', 'Nancy', 'Clayton', 'Jeffrey', 'Caitlin', 'Shelly',\n",
       "       'Ellen', 'Marcus', 'Bernard', 'Caleb', 'Jack', 'Laura', 'Cheyenne',\n",
       "       'Judith', 'Alyssa', 'Craig', 'Mitchell', 'Lauren', 'Allison',\n",
       "       'Erica', 'Cindy', 'Melinda', 'Samantha', 'Karen', 'Andrea',\n",
       "       'Natalie', 'Jordan', 'Janet', 'Cynthia', 'Susan', 'Krystal', 'Don',\n",
       "       'Danny', 'Brandon', 'Alexandra', 'Nathaniel', 'Tony', 'Kara',\n",
       "       'Diana', 'Brett', 'Jerome', 'Amanda', 'Logan', 'Dale', 'Maureen',\n",
       "       'Ricardo', 'Austin', 'Bryan', 'Jill', 'Shane', 'Tracey', 'Chris',\n",
       "       'Bethany', 'Sharon', 'Dean', 'Christine', 'Terri', 'Desiree',\n",
       "       'Katrina', 'Cheryl', 'Tiffany', 'Stephen', 'Stefanie', 'Connor',\n",
       "       'Rodney', 'Lindsey', 'Bradley', 'Tara', 'Danielle', 'Jodi',\n",
       "       'Tracy', 'Stacy', 'Yesenia', 'Jared', 'Gina', 'Tyler', 'Valerie',\n",
       "       'Jean', 'Sonya', 'Jesus', 'Dawn', 'Kristen', 'Megan', 'Mia',\n",
       "       'Lynn', 'Suzanne', 'Vanessa', 'Carla', 'Maria', 'Theresa',\n",
       "       'Ronald', 'Kristine', 'Russell', 'Marilyn', 'Garrett', 'Martin',\n",
       "       'Rachael', 'Dustin', 'Meredith', 'Karina', 'Jerry', 'Carmen',\n",
       "       'Victoria', 'Jake', 'Vicki', 'Joyce', 'Deanna', 'Angel', 'Heather',\n",
       "       'Dillon', 'Christian', 'Shawn', 'Ronnie', 'Lydia', 'Anna',\n",
       "       'Debbie', 'Jonathan', 'Helen', 'Misty', 'Nina', 'Maxwell', 'Luke',\n",
       "       'Kenneth', 'Colleen', 'Kristina', 'Taylor', 'Blake', 'Miguel',\n",
       "       'Troy', 'Leah', 'Dennis', 'Darryl', 'Christie', 'Alexandria',\n",
       "       'Victor', 'Olivia', 'Shirley', 'Joel', 'Connie', 'Lori', 'Cassie',\n",
       "       'Billy', 'Calvin', 'Joanne', 'Cathy', 'Tanner', 'Brooke', 'Wendy',\n",
       "       'Ralph', 'Drew', 'Julia', 'Brittney', 'Briana', 'Joe', 'Ricky',\n",
       "       'Gordon', 'Brent', 'Andre', 'Gilbert', 'Tonya', 'Debra', 'Marc',\n",
       "       'Zoe', 'Reginald', 'Darren', 'Shaun', 'Mario', 'April', 'Stacey',\n",
       "       'Katie', 'Joanna', 'Robin', 'Traci', 'Alan', 'Jorge', 'Renee',\n",
       "       'Riley', 'Micheal', 'Morgan', 'Dorothy', 'Jaclyn', 'Cristina',\n",
       "       'Jody', 'Dakota', 'Bruce', 'Ian', 'Trevor', 'Mike', 'Alisha',\n",
       "       'Brandi', 'Corey', 'Stacie', 'Peggy', 'Angie', 'Jermaine', 'Ebony',\n",
       "       'Lucas', 'Jasmine', 'Adrian', 'Rickey', 'Virginia', 'Erik',\n",
       "       'Mason', 'Elijah', 'Alejandra', 'Belinda', 'Antonio', 'Jon', 'Jo',\n",
       "       'Brittany', 'Warren', 'Max', 'Henry', 'Janice', 'Caroline',\n",
       "       'Mikayla', 'Malik', 'Cody', 'Ernest', 'Evan', 'Angelica', 'Molly',\n",
       "       'Melvin', 'Leonard', 'Frederick', 'Kelli', 'Laurie', 'Daryl',\n",
       "       'Krista', 'Darin', 'Jenna', 'Luis', 'Veronica', 'Emma', 'Evelyn',\n",
       "       'Eileen', 'Dwayne', 'Tim', 'Ana', 'Isaac', 'Kendra', 'Seth',\n",
       "       'Tanya', 'Walter', 'Paige', 'Phillip', 'Julian', 'Greg', 'Natasha',\n",
       "       'Gabriella', 'Randy', 'Barry', 'Karla', 'Gerald', 'Jeff', 'Omar',\n",
       "       'Haley', 'Brad', 'Gail', 'Marisa', 'Rhonda', 'Abigail', 'Ariana',\n",
       "       'Jim', 'Miranda', 'Marvin', 'Cole', 'Loretta', 'Jeremy', 'Willie',\n",
       "       'Leroy', 'Francisco', 'Sandy', 'Brendan', 'Roberta', 'Destiny',\n",
       "       'Larry', 'Vickie', 'Ray', 'Alice', 'Jade', 'Jane', 'Beth', 'Anne',\n",
       "       'Sherry', 'Ruben', 'Savannah', 'Katelyn', 'Makayla', 'Dalton',\n",
       "       'Jonathon', 'Phyllis', 'Bailey', 'Lorraine', 'Roy', 'Jimmy',\n",
       "       'Rebekah', 'Sierra', 'Wanda', 'Clifford', 'Javier', 'Candace',\n",
       "       'Randall', 'Dominique', 'Edgar', 'Charlene', 'Pedro', 'Steve',\n",
       "       'Devin', 'Louis', 'Jocelyn', 'Alexa', 'Ruth', 'Dylan', 'Philip',\n",
       "       'Mckenzie', 'Vincent', 'Curtis', 'Toni', 'Maurice', 'Wesley',\n",
       "       'Sheri', 'Jay', 'Colin', 'Bonnie', 'Guy', 'Herbert', 'Marie',\n",
       "       'Carl', 'Rita', 'Mariah', 'Marissa', 'Spencer', 'Adrienne',\n",
       "       'Jackie', 'Gabrielle', 'Bob', 'Elaine', 'Glenda', 'Chelsey',\n",
       "       'Melody', 'Alvin', 'Kerry', 'Mathew', 'Gabriel', 'Johnny', 'Ross',\n",
       "       'Ariel', 'Casey', 'Dominic', 'Cassidy', 'Jenny', 'Duane', 'Perry',\n",
       "       'Beverly', 'Lance', 'Chloe', 'Tracie', 'Patty', 'Becky', 'Stuart',\n",
       "       'Candice', 'Grant', 'Marco', 'Shelley', 'Tricia', 'Arthur',\n",
       "       'Gloria', 'Sergio', 'Howard', 'Clarence', 'Raven', 'Annette',\n",
       "       'Roberto', 'Terrence', 'Jeanette', 'Grace', 'Sue', 'Ivan',\n",
       "       'Sylvia', 'Daisy', 'Shelby', 'Robyn', 'Jaime', 'Alec', 'Devon',\n",
       "       'Neil', 'Allen', 'Frances', 'Penny', 'Priscilla', 'Oscar', 'Heidi',\n",
       "       'Brady', 'Aimee', 'Bobby', 'Jeanne', 'Harry', 'Mercedes', 'Colton',\n",
       "       'Summer', 'Alfred', 'Darrell', 'Meagan', 'Terrance', 'Ashlee',\n",
       "       'Clinton', 'Claire', 'Nicolas', 'Yvette', 'Sally', 'Lee',\n",
       "       'Gabriela', 'Kerri', 'Johnathan', 'Norman', 'Joann', 'Carly',\n",
       "       'Fred', 'Kristy', 'Eddie', 'Francis', 'Judy', 'Kristopher',\n",
       "       'Albert', 'Theodore', 'Michaela', 'Preston', 'Shari', 'Madeline',\n",
       "       'Pam', 'Isabel', 'Mandy', 'Cesar', 'Eugene', 'Kristi', 'Eduardo',\n",
       "       'Noah', 'Tasha', 'Mackenzie', 'Kiara', 'Bill', 'Levi', 'Yolanda',\n",
       "       'Doris', 'Kirsten', 'Faith', 'Jasmin', 'Rose', 'Sophia', 'Norma',\n",
       "       'Edwin', 'Tom', 'Shelia', 'Collin', 'Bryce', 'Latoya', 'Kaitlin',\n",
       "       'Vernon', 'Bridget', 'Sheryl', 'Diamond', 'Earl', 'Lacey',\n",
       "       'Breanna', 'Gavin', 'Isabella', 'Geoffrey', 'Kari', 'Kaylee',\n",
       "       'Charlotte', 'Lonnie', 'Hayden', 'Tami', 'Kaitlyn', 'Darius',\n",
       "       'Glen', 'Wyatt', 'Mallory', 'Tyrone', 'Sheena', 'Marcia', 'Gregg',\n",
       "       'Jackson', 'Adriana', 'Kylie', 'Tammie', 'Stanley', 'Xavier',\n",
       "       'Hayley', 'Gene', 'Damon', 'Karl', 'Dan', 'Rick', 'Shawna',\n",
       "       'Kellie', 'Parker', 'Mindy', 'Kent', 'Dave', 'Cristian', 'Kristie',\n",
       "       'Kirk', 'Latasha', 'Sonia', 'Leon'], dtype=object)"
      ]
     },
     "execution_count": 9,
     "metadata": {},
     "output_type": "execute_result"
    }
   ],
   "source": [
    "df[\"Name\"].unique()"
   ]
  },
  {
   "cell_type": "markdown",
   "id": "f34840f6",
   "metadata": {},
   "source": [
    "# .nuique()"
   ]
  },
  {
   "cell_type": "markdown",
   "id": "73792a7b",
   "metadata": {},
   "source": [
    "It will show the total no of unque value from whole data frame"
   ]
  },
  {
   "cell_type": "code",
   "execution_count": 10,
   "id": "2e192d57",
   "metadata": {},
   "outputs": [
    {
     "data": {
      "text/plain": [
       "Customer ID           50000\n",
       "Name                    690\n",
       "Surname                1000\n",
       "Gender                    2\n",
       "Birthdate                58\n",
       "Transaction Amount    34665\n",
       "Date                    287\n",
       "Merchant Name         36939\n",
       "Category                  6\n",
       "dtype: int64"
      ]
     },
     "execution_count": 10,
     "metadata": {},
     "output_type": "execute_result"
    }
   ],
   "source": [
    "df.nunique()"
   ]
  },
  {
   "cell_type": "markdown",
   "id": "4d234903",
   "metadata": {},
   "source": [
    "# .describe()"
   ]
  },
  {
   "cell_type": "markdown",
   "id": "dff6dbc9",
   "metadata": {},
   "source": [
    "It show the Count, mean , median etc"
   ]
  },
  {
   "cell_type": "code",
   "execution_count": 11,
   "id": "dba2fda3",
   "metadata": {},
   "outputs": [
    {
     "data": {
      "text/html": [
       "<div>\n",
       "<style scoped>\n",
       "    .dataframe tbody tr th:only-of-type {\n",
       "        vertical-align: middle;\n",
       "    }\n",
       "\n",
       "    .dataframe tbody tr th {\n",
       "        vertical-align: top;\n",
       "    }\n",
       "\n",
       "    .dataframe thead th {\n",
       "        text-align: right;\n",
       "    }\n",
       "</style>\n",
       "<table border=\"1\" class=\"dataframe\">\n",
       "  <thead>\n",
       "    <tr style=\"text-align: right;\">\n",
       "      <th></th>\n",
       "      <th>Customer ID</th>\n",
       "      <th>Transaction Amount</th>\n",
       "    </tr>\n",
       "  </thead>\n",
       "  <tbody>\n",
       "    <tr>\n",
       "      <th>count</th>\n",
       "      <td>50000.00000</td>\n",
       "      <td>50000.000000</td>\n",
       "    </tr>\n",
       "    <tr>\n",
       "      <th>mean</th>\n",
       "      <td>500136.79696</td>\n",
       "      <td>442.119239</td>\n",
       "    </tr>\n",
       "    <tr>\n",
       "      <th>std</th>\n",
       "      <td>288232.43164</td>\n",
       "      <td>631.669724</td>\n",
       "    </tr>\n",
       "    <tr>\n",
       "      <th>min</th>\n",
       "      <td>29.00000</td>\n",
       "      <td>5.010000</td>\n",
       "    </tr>\n",
       "    <tr>\n",
       "      <th>25%</th>\n",
       "      <td>251191.50000</td>\n",
       "      <td>79.007500</td>\n",
       "    </tr>\n",
       "    <tr>\n",
       "      <th>50%</th>\n",
       "      <td>499520.50000</td>\n",
       "      <td>182.195000</td>\n",
       "    </tr>\n",
       "    <tr>\n",
       "      <th>75%</th>\n",
       "      <td>749854.25000</td>\n",
       "      <td>470.515000</td>\n",
       "    </tr>\n",
       "    <tr>\n",
       "      <th>max</th>\n",
       "      <td>999997.00000</td>\n",
       "      <td>2999.880000</td>\n",
       "    </tr>\n",
       "  </tbody>\n",
       "</table>\n",
       "</div>"
      ],
      "text/plain": [
       "        Customer ID  Transaction Amount\n",
       "count   50000.00000        50000.000000\n",
       "mean   500136.79696          442.119239\n",
       "std    288232.43164          631.669724\n",
       "min        29.00000            5.010000\n",
       "25%    251191.50000           79.007500\n",
       "50%    499520.50000          182.195000\n",
       "75%    749854.25000          470.515000\n",
       "max    999997.00000         2999.880000"
      ]
     },
     "execution_count": 11,
     "metadata": {},
     "output_type": "execute_result"
    }
   ],
   "source": [
    "df.describe()"
   ]
  },
  {
   "cell_type": "markdown",
   "id": "e0a1161b",
   "metadata": {},
   "source": [
    "# .value_counts"
   ]
  },
  {
   "cell_type": "markdown",
   "id": "dcea0077",
   "metadata": {},
   "source": [
    "It Shows all the unique values with their count"
   ]
  },
  {
   "cell_type": "code",
   "execution_count": 12,
   "id": "8a63f82e",
   "metadata": {},
   "outputs": [
    {
     "data": {
      "text/plain": [
       "Michael        1167\n",
       "David           761\n",
       "John            749\n",
       "James           730\n",
       "Christopher     711\n",
       "               ... \n",
       "Terrance          4\n",
       "Preston           4\n",
       "Perry             3\n",
       "Latasha           2\n",
       "Leon              1\n",
       "Name: Name, Length: 690, dtype: int64"
      ]
     },
     "execution_count": 12,
     "metadata": {},
     "output_type": "execute_result"
    }
   ],
   "source": [
    "df[\"Name\"].value_counts()"
   ]
  },
  {
   "cell_type": "markdown",
   "id": "f55f4c89",
   "metadata": {},
   "source": [
    "# .isnull()"
   ]
  },
  {
   "cell_type": "markdown",
   "id": "cb961a9d",
   "metadata": {},
   "source": [
    "It shows the how many null values"
   ]
  },
  {
   "cell_type": "code",
   "execution_count": 13,
   "id": "614ae149",
   "metadata": {},
   "outputs": [
    {
     "data": {
      "text/html": [
       "<div>\n",
       "<style scoped>\n",
       "    .dataframe tbody tr th:only-of-type {\n",
       "        vertical-align: middle;\n",
       "    }\n",
       "\n",
       "    .dataframe tbody tr th {\n",
       "        vertical-align: top;\n",
       "    }\n",
       "\n",
       "    .dataframe thead th {\n",
       "        text-align: right;\n",
       "    }\n",
       "</style>\n",
       "<table border=\"1\" class=\"dataframe\">\n",
       "  <thead>\n",
       "    <tr style=\"text-align: right;\">\n",
       "      <th></th>\n",
       "      <th>Customer ID</th>\n",
       "      <th>Name</th>\n",
       "      <th>Surname</th>\n",
       "      <th>Gender</th>\n",
       "      <th>Birthdate</th>\n",
       "      <th>Transaction Amount</th>\n",
       "      <th>Date</th>\n",
       "      <th>Merchant Name</th>\n",
       "      <th>Category</th>\n",
       "    </tr>\n",
       "  </thead>\n",
       "  <tbody>\n",
       "    <tr>\n",
       "      <th>0</th>\n",
       "      <td>False</td>\n",
       "      <td>False</td>\n",
       "      <td>False</td>\n",
       "      <td>False</td>\n",
       "      <td>False</td>\n",
       "      <td>False</td>\n",
       "      <td>False</td>\n",
       "      <td>False</td>\n",
       "      <td>False</td>\n",
       "    </tr>\n",
       "    <tr>\n",
       "      <th>1</th>\n",
       "      <td>False</td>\n",
       "      <td>False</td>\n",
       "      <td>False</td>\n",
       "      <td>True</td>\n",
       "      <td>False</td>\n",
       "      <td>False</td>\n",
       "      <td>False</td>\n",
       "      <td>False</td>\n",
       "      <td>False</td>\n",
       "    </tr>\n",
       "    <tr>\n",
       "      <th>2</th>\n",
       "      <td>False</td>\n",
       "      <td>False</td>\n",
       "      <td>False</td>\n",
       "      <td>False</td>\n",
       "      <td>False</td>\n",
       "      <td>False</td>\n",
       "      <td>False</td>\n",
       "      <td>False</td>\n",
       "      <td>False</td>\n",
       "    </tr>\n",
       "    <tr>\n",
       "      <th>3</th>\n",
       "      <td>False</td>\n",
       "      <td>False</td>\n",
       "      <td>False</td>\n",
       "      <td>False</td>\n",
       "      <td>False</td>\n",
       "      <td>False</td>\n",
       "      <td>False</td>\n",
       "      <td>False</td>\n",
       "      <td>False</td>\n",
       "    </tr>\n",
       "    <tr>\n",
       "      <th>4</th>\n",
       "      <td>False</td>\n",
       "      <td>False</td>\n",
       "      <td>False</td>\n",
       "      <td>False</td>\n",
       "      <td>False</td>\n",
       "      <td>False</td>\n",
       "      <td>False</td>\n",
       "      <td>False</td>\n",
       "      <td>False</td>\n",
       "    </tr>\n",
       "    <tr>\n",
       "      <th>...</th>\n",
       "      <td>...</td>\n",
       "      <td>...</td>\n",
       "      <td>...</td>\n",
       "      <td>...</td>\n",
       "      <td>...</td>\n",
       "      <td>...</td>\n",
       "      <td>...</td>\n",
       "      <td>...</td>\n",
       "      <td>...</td>\n",
       "    </tr>\n",
       "    <tr>\n",
       "      <th>49995</th>\n",
       "      <td>False</td>\n",
       "      <td>False</td>\n",
       "      <td>False</td>\n",
       "      <td>False</td>\n",
       "      <td>False</td>\n",
       "      <td>False</td>\n",
       "      <td>False</td>\n",
       "      <td>False</td>\n",
       "      <td>False</td>\n",
       "    </tr>\n",
       "    <tr>\n",
       "      <th>49996</th>\n",
       "      <td>False</td>\n",
       "      <td>False</td>\n",
       "      <td>False</td>\n",
       "      <td>False</td>\n",
       "      <td>False</td>\n",
       "      <td>False</td>\n",
       "      <td>False</td>\n",
       "      <td>False</td>\n",
       "      <td>False</td>\n",
       "    </tr>\n",
       "    <tr>\n",
       "      <th>49997</th>\n",
       "      <td>False</td>\n",
       "      <td>False</td>\n",
       "      <td>False</td>\n",
       "      <td>False</td>\n",
       "      <td>False</td>\n",
       "      <td>False</td>\n",
       "      <td>False</td>\n",
       "      <td>False</td>\n",
       "      <td>False</td>\n",
       "    </tr>\n",
       "    <tr>\n",
       "      <th>49998</th>\n",
       "      <td>False</td>\n",
       "      <td>False</td>\n",
       "      <td>False</td>\n",
       "      <td>False</td>\n",
       "      <td>False</td>\n",
       "      <td>False</td>\n",
       "      <td>False</td>\n",
       "      <td>False</td>\n",
       "      <td>False</td>\n",
       "    </tr>\n",
       "    <tr>\n",
       "      <th>49999</th>\n",
       "      <td>False</td>\n",
       "      <td>False</td>\n",
       "      <td>False</td>\n",
       "      <td>False</td>\n",
       "      <td>False</td>\n",
       "      <td>False</td>\n",
       "      <td>False</td>\n",
       "      <td>False</td>\n",
       "      <td>False</td>\n",
       "    </tr>\n",
       "  </tbody>\n",
       "</table>\n",
       "<p>50000 rows × 9 columns</p>\n",
       "</div>"
      ],
      "text/plain": [
       "       Customer ID   Name  Surname  Gender  Birthdate  Transaction Amount  \\\n",
       "0            False  False    False   False      False               False   \n",
       "1            False  False    False    True      False               False   \n",
       "2            False  False    False   False      False               False   \n",
       "3            False  False    False   False      False               False   \n",
       "4            False  False    False   False      False               False   \n",
       "...            ...    ...      ...     ...        ...                 ...   \n",
       "49995        False  False    False   False      False               False   \n",
       "49996        False  False    False   False      False               False   \n",
       "49997        False  False    False   False      False               False   \n",
       "49998        False  False    False   False      False               False   \n",
       "49999        False  False    False   False      False               False   \n",
       "\n",
       "        Date  Merchant Name  Category  \n",
       "0      False          False     False  \n",
       "1      False          False     False  \n",
       "2      False          False     False  \n",
       "3      False          False     False  \n",
       "4      False          False     False  \n",
       "...      ...            ...       ...  \n",
       "49995  False          False     False  \n",
       "49996  False          False     False  \n",
       "49997  False          False     False  \n",
       "49998  False          False     False  \n",
       "49999  False          False     False  \n",
       "\n",
       "[50000 rows x 9 columns]"
      ]
     },
     "execution_count": 13,
     "metadata": {},
     "output_type": "execute_result"
    }
   ],
   "source": [
    "df.isnull()"
   ]
  },
  {
   "cell_type": "code",
   "execution_count": 14,
   "id": "483ad1db",
   "metadata": {},
   "outputs": [
    {
     "data": {
      "text/plain": [
       "<AxesSubplot:>"
      ]
     },
     "execution_count": 14,
     "metadata": {},
     "output_type": "execute_result"
    },
    {
     "data": {
      "image/png": "[encoded data removed]",
      "text/plain": [
       "<Figure size 432x288 with 2 Axes>"
      ]
     },
     "metadata": {
      "needs_background": "light"
     },
     "output_type": "display_data"
    }
   ],
   "source": [
    "sns.heatmap(df.isnull())"
   ]
  },
  {
   "cell_type": "code",
   "execution_count": 16,
   "id": "b7e7bfba",
   "metadata": {},
   "outputs": [
    {
     "data": {
      "image/png": "[encoded data removed]",
      "text/plain": [
       "<Figure size 576x432 with 1 Axes>"
      ]
     },
     "metadata": {
      "needs_background": "light"
     },
     "output_type": "display_data"
    }
   ],
   "source": [
    "plt.figure(figsize=(8, 6))\n",
    "sns.countplot(data=df, x='Gender', hue =\"Category\")\n",
    "plt.xlabel('Gender')\n",
    "plt.ylabel('Category')\n",
    "plt.title('Gender Vise Category Transactions')\n",
    "plt.show()"
   ]
  },
  {
   "cell_type": "code",
   "execution_count": 17,
   "id": "f3a890af",
   "metadata": {},
   "outputs": [
    {
     "data": {
      "image/png": "[encoded data removed]",
      "text/plain": [
       "<Figure size 576x432 with 1 Axes>"
      ]
     },
     "metadata": {
      "needs_background": "light"
     },
     "output_type": "display_data"
    }
   ],
   "source": [
    "plt.figure(figsize=(8, 6))\n",
    "sns.countplot(data=df, x='Gender')\n",
    "plt.xlabel('Gender')\n",
    "plt.ylabel('Count')\n",
    "plt.title('Count of Genders')\n",
    "plt.show()"
   ]
  },
  {
   "cell_type": "code",
   "execution_count": 18,
   "id": "e263f624",
   "metadata": {},
   "outputs": [
    {
     "data": {
      "text/plain": [
       "<AxesSubplot:title={'center':'Pie Chart of Category'}, ylabel='Category'>"
      ]
     },
     "execution_count": 18,
     "metadata": {},
     "output_type": "execute_result"
    },
    {
     "data": {
      "image/png": "[encoded data removed]",
      "text/plain": [
       "<Figure size 432x288 with 1 Axes>"
      ]
     },
     "metadata": {},
     "output_type": "display_data"
    }
   ],
   "source": [
    "df['Category'].value_counts().plot(kind = 'pie' , title = 'Pie Chart of Category', \n",
    "                             autopct=\"%.0f%%\", colormap='nipy_spectral_r')"
   ]
  },
  {
   "cell_type": "markdown",
   "id": "5a7079cb",
   "metadata": {},
   "source": [
    "What is the average transaction amount per customer?"
   ]
  },
  {
   "cell_type": "code",
   "execution_count": 19,
   "id": "6c6e0867",
   "metadata": {},
   "outputs": [
    {
     "name": "stdout",
     "output_type": "stream",
     "text": [
      "Average Transaction Amount per Customer:\n",
      "        Customer ID  Transaction Amount\n",
      "0               29               27.02\n",
      "1               51             1898.56\n",
      "2               54              166.30\n",
      "3               83              125.85\n",
      "4               90               18.16\n",
      "...            ...                 ...\n",
      "49995       999904              266.06\n",
      "49996       999914              295.11\n",
      "49997       999942              153.78\n",
      "49998       999949              636.09\n",
      "49999       999997               15.47\n",
      "\n",
      "[50000 rows x 2 columns]\n"
     ]
    }
   ],
   "source": [
    "avg_transaction_per_customer = df.groupby('Customer ID')['Transaction Amount'].mean().reset_index()\n",
    "print(\"Average Transaction Amount per Customer:\\n\", avg_transaction_per_customer)"
   ]
  },
  {
   "cell_type": "markdown",
   "id": "e15dfea7",
   "metadata": {},
   "source": [
    "Which gender has a higher average transaction amount?"
   ]
  },
  {
   "cell_type": "code",
   "execution_count": 20,
   "id": "2cd8174e",
   "metadata": {},
   "outputs": [
    {
     "name": "stdout",
     "output_type": "stream",
     "text": [
      "Average Transaction Amount by Gender:\n",
      "   Gender  Transaction Amount\n",
      "0      F          445.521078\n",
      "1      M          440.417393\n"
     ]
    }
   ],
   "source": [
    "avg_transaction_by_gender  = df.groupby('Gender')['Transaction Amount'].mean().reset_index()\n",
    "print(\"Average Transaction Amount by Gender:\\n\", avg_transaction_by_gender)"
   ]
  },
  {
   "cell_type": "markdown",
   "id": "278f696a",
   "metadata": {},
   "source": [
    "How many transactions occur on weekdays vs. weekends?"
   ]
  },
  {
   "cell_type": "code",
   "execution_count": 21,
   "id": "0fb2ce1c",
   "metadata": {},
   "outputs": [
    {
     "name": "stdout",
     "output_type": "stream",
     "text": [
      "Transaction Counts by Day:\n",
      " Tuesday      7854\n",
      "Wednesday    7725\n",
      "Monday       6966\n",
      "Thursday     6899\n",
      "Saturday     6878\n",
      "Friday       6846\n",
      "Sunday       6832\n",
      "Name: Day_of_Week, dtype: int64\n"
     ]
    }
   ],
   "source": [
    "# Assuming 'df' is your DataFrame\n",
    "df['Birthdate'] = pd.to_datetime(df['Birthdate'])\n",
    "df.set_index('Birthdate', inplace=True)  # Set 'Birthdate' as the datetime index\n",
    "\n",
    "df['Day_of_Week'] = df.index.day_name()\n",
    "\n",
    "transaction_counts_by_day = df['Day_of_Week'].value_counts()\n",
    "\n",
    "# Print the transaction counts\n",
    "print(\"Transaction Counts by Day:\\n\", transaction_counts_by_day)"
   ]
  },
  {
   "cell_type": "code",
   "execution_count": 22,
   "id": "d331ad1d",
   "metadata": {},
   "outputs": [
    {
     "data": {
      "text/plain": [
       "Text(0.5, 1.0, 'Transaction Counts by Day')"
      ]
     },
     "execution_count": 22,
     "metadata": {},
     "output_type": "execute_result"
    },
    {
     "data": {
      "image/png": "[encoded data removed]",
      "text/plain": [
       "<Figure size 432x288 with 1 Axes>"
      ]
     },
     "metadata": {
      "needs_background": "light"
     },
     "output_type": "display_data"
    }
   ],
   "source": [
    "transaction_counts_by_day = df['Day_of_Week'].value_counts()\n",
    "transaction_counts_by_day.plot(kind='bar', color='cyan')\n",
    "plt.xlabel('Day of Week')\n",
    "plt.ylabel('Count')\n",
    "plt.title('Transaction Counts by Day')"
   ]
  }
 ],
 "metadata": {
  "kernelspec": {
   "display_name": "Python 3 (ipykernel)",
   "language": "python",
   "name": "python3"
  },
  "language_info": {
   "codemirror_mode": {
    "name": "ipython",
    "version": 3
   },
   "file_extension": ".py",
   "mimetype": "text/x-python",
   "name": "python",
   "nbconvert_exporter": "python",
   "pygments_lexer": "ipython3",
   "version": "3.9.12"
  }
 },
 "nbformat": 4,
 "nbformat_minor": 5
}
